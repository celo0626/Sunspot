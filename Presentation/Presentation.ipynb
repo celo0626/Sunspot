{
 "cells": [
  {
   "cell_type": "markdown",
   "id": "73e3ec78",
   "metadata": {},
   "source": [
    "##Importing Libraries"
   ]
  },
  {
   "cell_type": "code",
   "execution_count": null,
   "id": "d6844006",
   "metadata": {},
   "outputs": [],
   "source": [
    "import numpy as np\n",
    "import pandas as pd\n",
    "import seaborn as sns\n",
    "import matplotlib.pyplot as plt\n",
    "color_pal = sns.color_palette()\n",
    "plt.style.use('fivethirtyeight')"
   ]
  },
  {
   "cell_type": "markdown",
   "id": "fc3683e2",
   "metadata": {},
   "source": [
    "Initial Analisis"
   ]
  },
  {
   "cell_type": "code",
   "execution_count": null,
   "id": "4c3387df",
   "metadata": {},
   "outputs": [],
   "source": [
    "## Reading and slight cleaning of data\n",
    "df = pd.read_csv(\"Sunspots.csv\")\n",
    "df = df.rename(columns={'Monthly Mean Total Sunspot Number': 'SunspotNumber'})\n",
    "df.drop(columns = 'Unnamed: 0',inplace=True)\n",
    "df.info()\n"
   ]
  },
  {
   "cell_type": "markdown",
   "id": "e723ba4f",
   "metadata": {},
   "source": [
    " For better time series manipulation, let's convert the ‘Date’ column to datetime format and change its order"
   ]
  },
  {
   "cell_type": "code",
   "execution_count": null,
   "id": "da09542f",
   "metadata": {},
   "outputs": [],
   "source": [
    "\n",
    "\n",
    "df.columns = [\"Date\", \"Sunspot\"]\n",
    "df['Date'] = pd.to_datetime(df['Date'])\n",
    "df.drop(index=df[df[\"Sunspot\"] == 0].index, inplace=True)\n",
    "df.info()\n"
   ]
  },
  {
   "cell_type": "markdown",
   "id": "a79838ce",
   "metadata": {},
   "source": [
    "Set the 'Date' column as the index of the DataFrame"
   ]
  },
  {
   "cell_type": "code",
   "execution_count": null,
   "id": "91083824",
   "metadata": {},
   "outputs": [],
   "source": [
    "df = df.set_index(\"Date\")\n",
    "df.info()\n"
   ]
  },
  {
   "cell_type": "markdown",
   "id": "d549d733",
   "metadata": {},
   "source": [
    "Summary statistics"
   ]
  },
  {
   "cell_type": "code",
   "execution_count": null,
   "id": "0fb8fe05",
   "metadata": {},
   "outputs": [],
   "source": [
    "df.describe()"
   ]
  },
  {
   "cell_type": "markdown",
   "id": "93061f24",
   "metadata": {},
   "source": [
    "Time indices are already sorted from past to present in an ascending order, and none of the values in the 'Sunspot' column are null"
   ]
  },
  {
   "cell_type": "code",
   "execution_count": null,
   "id": "c827a0b5",
   "metadata": {},
   "outputs": [],
   "source": [
    "print(df.index.is_monotonic_increasing)\n",
    "df.isnull().sum()"
   ]
  },
  {
   "cell_type": "markdown",
   "id": "947408e8",
   "metadata": {},
   "source": [
    " Remove rows with zero sunspot values"
   ]
  },
  {
   "cell_type": "code",
   "execution_count": null,
   "id": "d5a2ac3f",
   "metadata": {},
   "outputs": [],
   "source": [
    "df.drop(index=df[df[\"Sunspot\"] == 0].index,inplace=True)\n"
   ]
  },
  {
   "cell_type": "markdown",
   "id": "b94b2dd3",
   "metadata": {},
   "source": [
    "# Exploratory Data Analysis"
   ]
  },
  {
   "cell_type": "code",
   "execution_count": null,
   "id": "57b239a0",
   "metadata": {},
   "outputs": [],
   "source": [
    "df.plot(style='-',\n",
    "        figsize=(15, 5),\n",
    "        color=color_pal[0],\n",
    "        title='Sunspot Number')\n",
    "plt.show()"
   ]
  },
  {
   "cell_type": "markdown",
   "id": "38e7acb7",
   "metadata": {},
   "source": [
    "Graph showing data for all years"
   ]
  },
  {
   "cell_type": "code",
   "execution_count": null,
   "id": "d81b3c47",
   "metadata": {},
   "outputs": [],
   "source": [
    "plt.figure(figsize=(15,5))\n",
    "plt.plot(df.index, df[\"Sunspot\"], label=\"Sunspot Number\", linewidth=1)\n",
    "plt.title(\"Monthly Mean Total Sunspot Number Over Time\")\n",
    "plt.xlabel(\"Date\")\n",
    "plt.ylabel(\"Sunspots\")\n",
    "plt.legend()\n",
    "plt.grid(True)\n",
    "plt.show()\n",
    "\n",
    "\n"
   ]
  },
  {
   "cell_type": "markdown",
   "id": "e1dda2b8",
   "metadata": {},
   "source": [
    "Graphs for the 11-year period 1880-1920"
   ]
  },
  {
   "cell_type": "code",
   "execution_count": null,
   "id": "19c360d8",
   "metadata": {},
   "outputs": [],
   "source": [
    "\n",
    "# Focus on data from 1880 to 1920\n",
    "df_recent = df[(df.index.year > 1880) & (df.index.year < 1920)].copy()\n",
    "df_recent['Year'] = df_recent.index.year\n",
    "df_recent['Month'] = df_recent.index.month\n",
    "\n",
    "# Create 11-year period labels (e.g., 1881, 1892, 1903)\n",
    "df_recent['Period'] = (df_recent['Year'] // 11) * 11\n",
    "\n",
    "# Calculate average sunspot number per month for each 11-year period\n",
    "df_grouped = df_recent.groupby(['Period', 'Month'])['Sunspot'].mean().reset_index()\n",
    "\n",
    "# Plot using Seaborn FacetGrid\n",
    "g = sns.FacetGrid(df_grouped, col=\"Period\", col_wrap=6, height=4, aspect=1)\n",
    "g.map(sns.lineplot, \"Month\", \"Sunspot\", color=\"mediumblue\")\n",
    "g.set_axis_labels(\"Month\", \"Avg. Sunspot Number\")\n",
    "g.set(xticks=range(1, 13))\n",
    "g.set_titles(col_template=\"{col_name}\")\n",
    "# Customize facet titles to show \"Period: 1881–1891\", etc.\n",
    "for ax, period in zip(g.axes.flat, g.col_names):\n",
    "    ax.set_title(f\"Period: {int(period)}–{int(period)+10}\", fontsize=10)\n",
    "\n",
    "plt.subplots_adjust(top=0.8)\n",
    "g.fig.suptitle(\"Monthly Average Sunspot Numbers by 11-Year Period\", fontsize=10)\n",
    "plt.show()"
   ]
  },
  {
   "cell_type": "markdown",
   "id": "b972616a",
   "metadata": {},
   "source": [
    "Heat graph of sunspots over the last 30 years"
   ]
  },
  {
   "cell_type": "code",
   "execution_count": null,
   "id": "2751842f",
   "metadata": {},
   "outputs": [],
   "source": [
    "df.drop(index=df[df[\"Sunspot\"] == 0].index, inplace=True)\n",
    "\n",
    "from datetime import datetime\n",
    "\n",
    "if 'Year' not in df.columns or 'Month' not in df.columns:\n",
    "    df['Year'] = df.index.year\n",
    "    df['Month'] = df.index.month\n",
    "    \n",
    "current_year = datetime.now().year\n",
    "last_30_years = current_year - 30\n",
    "df1_recent = df[df['Year'] >= last_30_years]\n",
    "heatmap_data = df1_recent.pivot_table(\n",
    "    index=\"Year\",\n",
    "    columns=\"Month\",\n",
    "    values=\"Sunspot\",\n",
    "    aggfunc=\"mean\"\n",
    ")\n",
    "plt.figure(figsize=(14, 10))\n",
    "sns.heatmap(heatmap_data, cmap=\"magma\", linewidths=0.1, linecolor='gray')\n",
    "plt.title(\"Monthly Mean Total Sunspot Number Heatmap (Last 30 Years)\")\n",
    "plt.xlabel(\"Month\")\n",
    "plt.ylabel(\"Year\")\n",
    "plt.show()"
   ]
  },
  {
   "cell_type": "markdown",
   "id": "7e091f5c",
   "metadata": {},
   "source": [
    "Comparison graph of monthly average sunspot number between 1985-1996 and 1996-2007"
   ]
  },
  {
   "cell_type": "code",
   "execution_count": null,
   "id": "829da41d",
   "metadata": {},
   "outputs": [],
   "source": [
    "## Compare two consecutive 11-year periods\n",
    "df_11_1985 = df[(df.index.year >= 1985) & (df.index.year < 1996)]\n",
    "df_11_1996 = df[(df.index.year >= 1996) & (df.index.year < 2007)]\n",
    "\n",
    "x_1985 = np.arange(1, len(df_11_1985) + 1)\n",
    "x_1996 = np.arange(1, len(df_11_1996) + 1)\n",
    "\n",
    "plt.plot(x_1985, df_11_1985['Sunspot'], label='1985-1996')\n",
    "plt.plot(x_1996, df_11_1996['Sunspot'], label='1996-2007')\n",
    "plt.legend()\n",
    "plt.xlabel('Month Index')\n",
    "plt.ylabel('Monthly Mean Total Sunspot Number')\n",
    "plt.title('Comparison of Two Consecutive 11-Year Periods')\n",
    "plt.show()"
   ]
  },
  {
   "cell_type": "markdown",
   "id": "401fa562",
   "metadata": {},
   "source": [
    "Shows  sunspot averages for all years(year)"
   ]
  },
  {
   "cell_type": "code",
   "execution_count": null,
   "id": "2686d08a",
   "metadata": {},
   "outputs": [],
   "source": [
    "yearly_avg = df.groupby(df.index.year)[\"Sunspot\"].mean().reset_index()\n",
    "\n",
    "plt.figure(figsize=(14, 6))\n",
    "sns.lineplot(data=yearly_avg, x=\"Date\", y=\"Sunspot\", color=\"orange\")\n",
    "plt.title(\"Yearly Average Sunspot Number\")\n",
    "plt.xlabel(\"Year\")\n",
    "plt.ylabel(\"Average Sunspot Number\")\n",
    "plt.grid(True)\n",
    "plt.tight_layout()\n",
    "plt.show()"
   ]
  },
  {
   "cell_type": "markdown",
   "id": "04f3c7a2",
   "metadata": {},
   "source": [
    "#Statistical Tests"
   ]
  },
  {
   "cell_type": "code",
   "execution_count": null,
   "id": "9f8d450f",
   "metadata": {},
   "outputs": [],
   "source": [
    "from scipy.stats import probplot\n",
    "from scipy.stats import ttest_ind\n",
    "from scipy.stats import chi2_contingency\n",
    "from scipy.stats import pearsonr\n",
    "from scipy.stats import shapiro\n",
    "from scipy import stats"
   ]
  },
  {
   "cell_type": "markdown",
   "id": "825a8fbe",
   "metadata": {},
   "source": [
    "Shapiro-Wilk test for the last 50 years(Is the data normally distributed?)"
   ]
  },
  {
   "cell_type": "code",
   "execution_count": null,
   "id": "1c33dc0e",
   "metadata": {},
   "outputs": [],
   "source": [
    "\n",
    "max_year = df.index.year.max()\n",
    "df_last50 = df[df.index.year >= (max_year - 50)]\n",
    "sunspot_last50 = df_last50['Sunspot'].dropna()\n",
    "\n",
    "\n",
    "if len(sunspot_last50) > 5000:\n",
    "    sample = sunspot_last50.sample(5000, random_state=42)\n",
    "else:\n",
    "    sample = sunspot_last50\n",
    "\n",
    "\n",
    "stat, p_value = shapiro(sample)\n",
    "print(\"Shapiro-Wilk Test Statistic p=:\", round(stat, 4))\n",
    "\n",
    "\n",
    "if p_value < 0.05:\n",
    "    print(\"The data is NOT normally distributed  (p ≥ 0.05)\")\n",
    "else:\n",
    "    print(\"The data IS normally distributed  (p < 0.05)\")\n",
    "\n",
    "\n"
   ]
  },
  {
   "cell_type": "markdown",
   "id": "f21da8eb",
   "metadata": {},
   "source": [
    "T-test for 2 different 11-year period groups(Compare sunspot means between two time periods: 1985–1996 vs 1996–2007)"
   ]
  },
  {
   "cell_type": "code",
   "execution_count": null,
   "id": "9f77a780",
   "metadata": {},
   "outputs": [],
   "source": [
    "group1 = df[(df.index.year >= 1985) & (df.index.year <= 1996)]['Sunspot'].dropna()\n",
    "group2 = df[(df.index.year >= 1996) & (df.index.year <= 2007)]['Sunspot'].dropna()\n",
    "\n",
    "stat, p = ttest_ind(group1, group2, equal_var=False)\n",
    "print(f\"T-Test p-value: {p:.4f}\")\n",
    "if p < 0.05:\n",
    "    print(\"Conclusion: There is a significant difference between the two periods.\")\n",
    "else:\n",
    "    print(\"Conclusion: No significant difference between the two periods.\")"
   ]
  },
  {
   "cell_type": "markdown",
   "id": "5b8d796f",
   "metadata": {},
   "source": [
    "Poisson Distribution Check (Is the distribution Poisson-like? )"
   ]
  },
  {
   "cell_type": "code",
   "execution_count": null,
   "id": "1b8b7744",
   "metadata": {},
   "outputs": [],
   "source": [
    "filtered = df[df['Sunspot'] < 100]['Sunspot'].dropna().astype(int)\n",
    "mean = filtered.mean()\n",
    "var = filtered.var()\n",
    "\n",
    "print(f\"Poisson Mean: {mean:.2f}, Variance: {var:.2f}\")\n",
    "if np.isclose(mean, var, rtol=0.2):\n",
    "    print(\"Conclusion: The data fits a Poisson distribution.\")\n",
    "else:\n",
    "    print(\"Conclusion: The data does not fit a Poisson distribution.\")"
   ]
  },
  {
   "cell_type": "markdown",
   "id": "46ade450",
   "metadata": {},
   "source": [
    "Chi-Square test"
   ]
  },
  {
   "cell_type": "code",
   "execution_count": null,
   "id": "6f700b81",
   "metadata": {},
   "outputs": [],
   "source": [
    "df['SunspotCategory'] = pd.cut(df['Sunspot'],\n",
    "                               bins=[-1, 20, 70, df['Sunspot'].max()],\n",
    "                               labels=[\"Low\", \"Medium\", \"High\"])\n",
    "\n",
    "\n",
    "contingency_table = pd.crosstab(df.index.month, df['SunspotCategory'])\n",
    "\n",
    "\n",
    "chi2, p_value, dof, expected = chi2_contingency(contingency_table)\n",
    "\n",
    "print(\"Chi-Square Statistic:\", chi2)\n",
    "print(\"P-value:\", p_value)\n",
    "\n",
    "if p_value < 0.05:\n",
    "    print(\"Conclusion: Monthly means are significantly different from expected uniform distribution.\")\n",
    "else:\n",
    "    print(\"Conclusion: Monthly means are not significantly different from the expected values.\")\n"
   ]
  },
  {
   "cell_type": "markdown",
   "id": "8677a737",
   "metadata": {},
   "source": [
    "Pearson Correlation test"
   ]
  },
  {
   "cell_type": "code",
   "execution_count": null,
   "id": "5977c31a",
   "metadata": {},
   "outputs": [],
   "source": [
    "df['Timestamp'] = df.index.astype(np.int64) // 10**9\n",
    "\n",
    "corr, p_value = pearsonr(df['Timestamp'], df['Sunspot'])\n",
    "\n",
    "print(f\"Pearson Correlation Coefficient: {corr:.4f}\")\n",
    "print(f\"P-value: {p_value:.4f}\")\n",
    "if p_value < 0.05:\n",
    "    print(\"Conclusion: There is a significant linear relationship between time and sunspot numbers.\")\n",
    "else:\n",
    "    print(\"Conclusion: Conclusion: No significant relationship between time and sunspot numbers.\")\n"
   ]
  },
  {
   "cell_type": "markdown",
   "id": "c9dda05c",
   "metadata": {},
   "source": [
    "Anova(Monthly)"
   ]
  },
  {
   "cell_type": "code",
   "execution_count": null,
   "id": "99dbac06",
   "metadata": {},
   "outputs": [],
   "source": [
    "groups = [df[df[\"Month\"] == month][\"Sunspot\"].dropna() for month in range(1, 13)]\n",
    "\n",
    "f_stat, p_value = stats.f_oneway(*groups)\n",
    "\n",
    "print(\"F-statistic:\", f_stat)\n",
    "print(\"P-value:\", p_value)\n",
    "\n",
    "\n",
    "if p_value < 0.05:\n",
    "    print(\"Result: There is a statistically significant difference in sunspot numbers between months (p < 0.05).\")\n",
    "else:\n",
    "    print(\"Result: There is no statistically significant difference between months (p ≥ 0.05).\")"
   ]
  },
  {
   "cell_type": "markdown",
   "id": "71cadef0",
   "metadata": {},
   "source": [
    "Future engineering"
   ]
  },
  {
   "cell_type": "markdown",
   "id": "6f6b658b",
   "metadata": {},
   "source": [
    "Importing Libraries"
   ]
  },
  {
   "cell_type": "code",
   "execution_count": null,
   "id": "5dff8b86",
   "metadata": {},
   "outputs": [],
   "source": [
    "from sklearn.linear_model import LinearRegression\n",
    "from sklearn.svm import SVR\n",
    "from sklearn.neural_network import MLPRegressor\n",
    "from sklearn.ensemble import RandomForestRegressor\n",
    "from sklearn.neighbors import KNeighborsRegressor\n",
    "from lightgbm import LGBMRegressor\n",
    "from sklearn.metrics import mean_squared_error, r2_score\n",
    "from sklearn.model_selection import train_test_split\n",
    "from sklearn.preprocessing import MinMaxScaler\n",
    "\n",
    "import warnings\n",
    "warnings.filterwarnings('ignore')"
   ]
  },
  {
   "cell_type": "markdown",
   "id": "3c6511ea",
   "metadata": {},
   "source": [
    "Initial Analisis"
   ]
  },
  {
   "cell_type": "code",
   "execution_count": null,
   "id": "bb10f6fc",
   "metadata": {},
   "outputs": [],
   "source": [
    "df = pd.read_csv(\"Sunspots.csv\")\n",
    "df.drop(columns='Unnamed: 0', inplace=True)\n",
    "df.drop(index=df[df[\"Monthly Mean Total Sunspot Number\"] == 0].index, inplace=True)\n",
    "df.columns = [\"Date\", \"Sunspot\"]\n",
    "df['Date'] = pd.to_datetime(df['Date'])\n",
    "df.set_index('Date', inplace=True)\n"
   ]
  },
  {
   "cell_type": "code",
   "execution_count": null,
   "id": "43994602",
   "metadata": {},
   "outputs": [],
   "source": [
    "df['Month'] = df.index.month\n",
    "df['Day'] = df.index.day\n",
    "df['Month_sin'] = np.sin(2 * np.pi * df['Month']/12)       #Cyclical encoding\n",
    "df['Month_cos'] = np.cos(2 * np.pi * df['Month']/12)\n",
    "\n",
    "\n",
    "df['Sunspot_lag1'] = df['Sunspot'].shift(1)\n",
    "df['Sunspot_lag12'] = df['Sunspot'].shift(12)          #lag values\n",
    "df['Sunspot_lag60'] = df['Sunspot'].shift(60)\n",
    "\n",
    "\n",
    "df['Diff_11Year'] = df['Sunspot'] - df['Sunspot'].shift(132)\n",
    "\n",
    "df[\"Year_frac\"] = df.index.year + (df.index.month - 1)/12\n",
    "df[\"Year_sin\"] = np.sin(2 * np.pi * df[\"Year_frac\"] / 11)    #11-year period (sin-cos)\n",
    "df[\"Year_cos\"] = np.cos(2 * np.pi * df[\"Year_frac\"] / 11)\n",
    "\n",
    "\n",
    "df['Rolling_11Yr'] = df['Sunspot'].rolling(window=132, min_periods=1).mean()\n",
    "df['rolling_mean_12'] = df['Sunspot'].rolling(window=12).mean()                #11-year average data\n",
    "df['rolling_std_12'] = df['Sunspot'].rolling(window=12).std()\n",
    "\n",
    "\n",
    "df.dropna(inplace=True)"
   ]
  },
  {
   "cell_type": "markdown",
   "id": "65f099c2",
   "metadata": {},
   "source": [
    "Split the dataset into training, validation and test sets and set futures"
   ]
  },
  {
   "cell_type": "code",
   "execution_count": null,
   "id": "c4c4654f",
   "metadata": {},
   "outputs": [],
   "source": [
    "features = ['Year_frac','Month_sin', 'Month_cos', 'Sunspot_lag1', 'Sunspot_lag12',  'rolling_mean_12', 'rolling_std_12','Diff_11Year','Rolling_11Yr',\"Year_frac\",\"Year_sin\",\"Year_cos\",\"Sunspot_lag60\"]\n",
    "target = 'Sunspot'\n",
    "\n",
    "X = df[features]\n",
    "y = df[target]\n",
    "\n",
    "X_train_full, X_temp, y_train_full, y_temp = train_test_split(X, y, test_size=0.30, shuffle=False)\n",
    "X_test, X_val, y_test, y_val = train_test_split(X_temp, y_temp, test_size=0.50, shuffle=False)\n"
   ]
  },
  {
   "cell_type": "markdown",
   "id": "dfd36cdb",
   "metadata": {},
   "source": [
    "Scaling"
   ]
  },
  {
   "cell_type": "code",
   "execution_count": null,
   "id": "25213545",
   "metadata": {},
   "outputs": [],
   "source": [
    "scaler = MinMaxScaler()\n",
    "X_train = scaler.fit_transform(X_train_full)\n",
    "X_test = scaler.transform(X_test)\n",
    "X_val = scaler.transform(X_val)"
   ]
  },
  {
   "cell_type": "markdown",
   "id": "9d43e1f7",
   "metadata": {},
   "source": [
    "#Modeling"
   ]
  },
  {
   "cell_type": "markdown",
   "id": "cf4921ef",
   "metadata": {},
   "source": [
    "LightGBM Regressor"
   ]
  },
  {
   "cell_type": "code",
   "execution_count": null,
   "id": "152dbc93",
   "metadata": {},
   "outputs": [],
   "source": [
    "model = LGBMRegressor()\n",
    "model.fit(X_train, y_train_full)\n",
    "\n",
    "y_pred_test = model.predict(X_test)\n",
    "y_pred_val = model.predict(X_val)\n"
   ]
  },
  {
   "cell_type": "markdown",
   "id": "5d282f14",
   "metadata": {},
   "source": [
    "RMSE and r^2 values of test and validation set"
   ]
  },
  {
   "cell_type": "code",
   "execution_count": null,
   "id": "1c17ae18",
   "metadata": {},
   "outputs": [],
   "source": [
    "def evaluate(y_true, y_pred):\n",
    "    rmse = np.sqrt(mean_squared_error(y_true, y_pred))\n",
    "    r2 = r2_score(y_true, y_pred)\n",
    "    return {\"RMSE\": rmse, \"R2\": r2}\n",
    "\n",
    "print(\"Test Set:\")\n",
    "print(evaluate(y_test, y_pred_test))\n",
    "\n",
    "print(\"Validation Set:\")\n",
    "print(evaluate(y_val, y_pred_val))"
   ]
  },
  {
   "cell_type": "markdown",
   "id": "33af7374",
   "metadata": {},
   "source": [
    "Test Set: Actual vs Predicted Graph"
   ]
  },
  {
   "cell_type": "code",
   "execution_count": null,
   "id": "c51b0275",
   "metadata": {},
   "outputs": [],
   "source": [
    "plt.figure(figsize=(14, 5))\n",
    "plt.plot(y_test.index, y_test, label='Actual')\n",
    "plt.plot(y_test.index, y_pred_test, label='Predicted', linestyle='-')\n",
    "plt.title(\"Test Set: Actual vs Predicted\")\n",
    "plt.xlabel(\"Date\")\n",
    "plt.ylabel(\"Sunspots\")\n",
    "plt.legend()\n",
    "plt.grid(True)\n",
    "plt.show()"
   ]
  },
  {
   "cell_type": "markdown",
   "id": "c70879a6",
   "metadata": {},
   "source": [
    "Validation Set: Prediction vs Actual Graph"
   ]
  },
  {
   "cell_type": "code",
   "execution_count": null,
   "id": "940460c4",
   "metadata": {},
   "outputs": [],
   "source": [
    "plt.figure(figsize=(14, 5))\n",
    "\n",
    "\n",
    "plt.plot(y_val.index, y_val, label='Actual', color='black', linewidth=2)\n",
    "\n",
    "\n",
    "plt.plot(y_val.index, y_pred_val, label='Prediction Lightgbm', color='orange', linestyle='-', linewidth=2)\n",
    "\n",
    "plt.title(\"Validation Set: Prediction vs Actual\", fontsize=14)\n",
    "plt.xlabel(\"Date\")\n",
    "plt.ylabel(\"Sunspot Number\")\n",
    "plt.legend()\n",
    "plt.grid(True)\n",
    "plt.tight_layout()\n",
    "plt.show()\n"
   ]
  },
  {
   "cell_type": "markdown",
   "id": "58d2bef4",
   "metadata": {},
   "source": [
    "Validation Prediction Graph"
   ]
  },
  {
   "cell_type": "code",
   "execution_count": null,
   "id": "8def5ba9",
   "metadata": {},
   "outputs": [],
   "source": [
    "plt.figure(figsize=(14, 5))\n",
    "plt.plot(y_val.index, y_pred_val, label='Validation Prediction', color='orange')\n",
    "plt.title(\"Validation Set: Prediction Only\")\n",
    "plt.xlabel(\"Date\")\n",
    "plt.ylabel(\"Predicted Sunspots\")\n",
    "plt.legend()\n",
    "plt.grid(True)\n",
    "plt.show()\n"
   ]
  },
  {
   "cell_type": "markdown",
   "id": "edb5dabd",
   "metadata": {},
   "source": [
    "Test and validation values"
   ]
  },
  {
   "cell_type": "code",
   "execution_count": null,
   "id": "f96dce98",
   "metadata": {},
   "outputs": [],
   "source": [
    "print(\"🔸 Test Set Predictions:\")\n",
    "test_preds = pd.DataFrame({\n",
    "    \"Date\": y_test.index,\n",
    "    \"Actual\": y_test.values,\n",
    "    \"Predicted\": y_pred_test\n",
    "})\n",
    "print(test_preds.tail(10))  \n",
    "\n",
    "\n",
    "print(\"\\n🔸 Validation Set Predictions (Only Predictions shown):\")\n",
    "val_preds = pd.DataFrame({\n",
    "    \"Date\": y_val.index,\n",
    "    \"Predicted\": y_pred_val\n",
    "})\n",
    "print(val_preds.tail(10))  "
   ]
  },
  {
   "cell_type": "markdown",
   "id": "102b88f8",
   "metadata": {},
   "source": [
    "Train and compare other models and plot graphs"
   ]
  },
  {
   "cell_type": "code",
   "execution_count": null,
   "id": "a72f1119",
   "metadata": {},
   "outputs": [],
   "source": [
    "models = {\n",
    "    \"Linear Regression\": LinearRegression(),\n",
    "    \"SVR\": SVR(),\n",
    "    \"KNN\": KNeighborsRegressor(),\n",
    "    \"Random Forest\": RandomForestRegressor(),\n",
    "    \"MLP\": MLPRegressor(),\n",
    "    \"LGBMRegressor\":LGBMRegressor()\n",
    "}\n",
    "\n",
    "val_preds = pd.DataFrame(index=y_val.index)\n",
    "val_preds[\"Actual\"] = y_val\n",
    "\n",
    "for name, model in models.items():\n",
    "    model.fit(X_train, y_train_full)\n",
    "    val_preds[name] = model.predict(X_val)\n",
    "\n",
    "\n",
    "plt.figure(figsize=(16, 6))\n",
    "sns.set_style(\"white\")\n",
    "\n",
    "for name in val_preds.columns[1:]:\n",
    "    plt.plot(val_preds.index, val_preds[name], label=name, linestyle='-', linewidth=2)\n",
    "\n",
    "plt.plot(val_preds.index, val_preds[\"Actual\"], label=\"Actual\", color=\"black\", linewidth=2)\n",
    "\n",
    "plt.title(\"Validation Forecast Comparison by Model\", fontsize=15)\n",
    "plt.xlabel(\"Date\")\n",
    "plt.ylabel(\"Sunspot Number\")\n",
    "plt.legend()\n",
    "plt.grid(True)\n",
    "plt.tight_layout()\n",
    "plt.show()"
   ]
  },
  {
   "cell_type": "markdown",
   "id": "87f5c48a",
   "metadata": {},
   "source": [
    "Graph comparing the prediction values of all models with the actual values separately"
   ]
  },
  {
   "cell_type": "code",
   "execution_count": null,
   "id": "27e2c36b",
   "metadata": {},
   "outputs": [],
   "source": [
    "for name in val_preds.columns[1:]:  \n",
    "    plt.figure(figsize=(14, 5))\n",
    "    \n",
    "    \n",
    "    plt.plot(val_preds.index, val_preds[\"Actual\"], label=\"Actual\", color=\"black\", linewidth=2)\n",
    "    \n",
    "    \n",
    "    plt.plot(val_preds.index, val_preds[name], label=f\"{name} Prediction\", linestyle='-', linewidth=2)\n",
    "    \n",
    "    plt.title(f\"Validation Prediction vs Actual: {name}\", fontsize=14)\n",
    "    plt.xlabel(\"Date\")\n",
    "    plt.ylabel(\"Sunspot Number\")\n",
    "    plt.legend()\n",
    "    plt.grid(True)\n",
    "    plt.tight_layout()\n",
    "    plt.show()\n"
   ]
  },
  {
   "cell_type": "markdown",
   "id": "c55fc8bb",
   "metadata": {},
   "source": [
    "RMSE values of all models"
   ]
  },
  {
   "cell_type": "code",
   "execution_count": null,
   "id": "b3dcbcd6",
   "metadata": {},
   "outputs": [],
   "source": [
    "rmse_scores = []\n",
    "\n",
    "\n",
    "for model_name in val_preds.columns[1:]:\n",
    "    rmse = np.sqrt(mean_squared_error(val_preds[\"Actual\"], val_preds[model_name]))\n",
    "    rmse_scores.append((model_name, rmse))\n",
    "\n",
    "\n",
    "rmse_df = pd.DataFrame(rmse_scores, columns=[\"Model\", \"RMSE\"])\n",
    "rmse_df = rmse_df.sort_values(by=\"RMSE\")\n",
    "\n",
    "rmse_df.reset_index(drop=True, inplace=True)\n",
    "print(rmse_df)\n"
   ]
  },
  {
   "cell_type": "markdown",
   "id": "7f02a7f8",
   "metadata": {},
   "source": [
    "Plot of RMSE values of all models"
   ]
  },
  {
   "cell_type": "code",
   "execution_count": null,
   "id": "116c17d1",
   "metadata": {},
   "outputs": [],
   "source": [
    "sns.set_style(\"whitegrid\")\n",
    "plt.figure(figsize=(10, 5))\n",
    "\n",
    "\n",
    "sns.barplot(data=rmse_df, x=\"Model\", y=\"RMSE\", palette=\"viridis\")\n",
    "\n",
    "plt.title(\"Validation RMSE by Model\", fontsize=14)\n",
    "plt.xlabel(\"Model\", fontsize=12)\n",
    "plt.ylabel(\"RMSE\", fontsize=12)\n",
    "plt.xticks(rotation=45)\n",
    "plt.tight_layout()\n",
    "plt.show()"
   ]
  },
  {
   "cell_type": "markdown",
   "id": "7668cab4",
   "metadata": {},
   "source": [
    "Choosing the best model"
   ]
  },
  {
   "cell_type": "code",
   "execution_count": null,
   "id": "63118ed8",
   "metadata": {},
   "outputs": [],
   "source": [
    "best_model_name = rmse_df.iloc[0][\"Model\"]\n",
    "print(f\"Best Model: {best_model_name}\")\n"
   ]
  },
  {
   "cell_type": "markdown",
   "id": "98ca4246",
   "metadata": {},
   "source": [
    "Feature importance graph of the best model"
   ]
  },
  {
   "cell_type": "code",
   "execution_count": null,
   "id": "edf01a6a",
   "metadata": {},
   "outputs": [],
   "source": [
    "feature_names = X.columns.tolist()\n",
    "\n",
    "\n",
    "\n",
    "best_model = models[best_model_name]\n",
    "\n",
    "if hasattr(best_model, \"feature_importances_\"):\n",
    "    importances = best_model.feature_importances_\n",
    "elif hasattr(best_model, \"coef_\"):\n",
    "    importances = np.abs(best_model.coef_)\n",
    "else:\n",
    "    importances = None\n",
    "\n",
    "\n",
    "if importances is not None:\n",
    "    importance_df = pd.DataFrame({\n",
    "        \"Feature\": feature_names,\n",
    "        \"Importance\": importances\n",
    "    }).sort_values(by=\"Importance\", ascending=False)\n",
    "\n",
    "    \n",
    "    plt.figure(figsize=(10, 5))\n",
    "    sns.barplot(data=importance_df, x=\"Importance\", y=\"Feature\", palette=\"Blues_d\")\n",
    "    plt.title(f\"Feature Importances - {best_model_name}\")\n",
    "    plt.xlabel(\"Importance\")\n",
    "    plt.ylabel(\"Feature\")\n",
    "    plt.tight_layout()\n",
    "    plt.show()"
   ]
  },
  {
   "cell_type": "markdown",
   "id": "a3b070c4",
   "metadata": {},
   "source": [
    "Detailed graph comparing all models with actual values"
   ]
  },
  {
   "cell_type": "code",
   "execution_count": null,
   "id": "1a5e00c7",
   "metadata": {},
   "outputs": [],
   "source": [
    "import plotly.express as px\n",
    "import plotly.io as pio\n",
    "\n",
    "\n",
    "\n",
    "\n",
    "val_preds_long = val_preds.reset_index().melt(\n",
    "    id_vars=\"Date\",\n",
    "    var_name=\"Model\",\n",
    "    value_name=\"Prediction\"\n",
    ")\n",
    "\n",
    "\n",
    "color_map = {\n",
    "    \"Actual\": \"black\",\n",
    "    \"Linear Regression\": \"#faf602\",  \n",
    "    \"SVR\": \"#03f72c\",                \n",
    "    \"KNN\": \"purple\",                \n",
    "    \"Random Forest\": \"#00fcfc\",      \n",
    "    \"MLP\": \"#0113b9\",\n",
    "    \"LGBMRegressor\":\"red\"                 \n",
    "}\n",
    "\n",
    "\n",
    "fig = px.line(\n",
    "    val_preds_long,\n",
    "    x=\"Date\",\n",
    "    y=\"Prediction\",\n",
    "    color=\"Model\",\n",
    "    title=\"Validation Predictions vs Actual (Styled)\",\n",
    "    labels={\"Prediction\": \"Sunspot Number\"},\n",
    "    color_discrete_map=color_map\n",
    ")\n",
    "\n",
    "\n",
    "fig.for_each_trace(\n",
    "    lambda trace: trace.update(line=dict(width=5)) if trace.name == \"Actual\"\n",
    "    else trace.update(line=dict(width=2))\n",
    ")\n",
    "\n",
    "\n",
    "fig.update_layout(\n",
    "    template=\"plotly_white\",\n",
    "    legend_title=\"Models\",\n",
    "    font=dict(size=14)\n",
    ")\n",
    "\n",
    "fig.show()"
   ]
  },
  {
   "cell_type": "markdown",
   "id": "c27ff680",
   "metadata": {},
   "source": []
  },
  {
   "cell_type": "code",
   "execution_count": null,
   "id": "ec46879b",
   "metadata": {},
   "outputs": [],
   "source": [
    "import lightgbm as lgb\n",
    "features = [\n",
    "    'Month_sin', 'Month_cos',\n",
    "    'Sunspot_lag1', 'Sunspot_lag12', 'Sunspot_lag60',\n",
    "    'Diff_11Year',\n",
    "    'rolling_mean_12', 'rolling_std_12',\n",
    "    'Year_sin', 'Year_cos', 'Rolling_11Yr'\n",
    "]\n",
    "\n",
    "\n",
    "X = df[features]\n",
    "y = df[\"Sunspot\"]\n",
    "\n",
    "\n",
    "X_train, X_temp, y_train, y_temp = train_test_split(X, y, test_size=0.30, shuffle=False)\n",
    "\n",
    "\n",
    "X_test, X_val, y_test, y_val = train_test_split(X_temp, y_temp, test_size=0.50, shuffle=False)\n",
    "\n",
    "\n",
    "X_future_train = pd.concat([X_test, X_val])\n",
    "y_future_train = pd.concat([y_test, y_val])\n",
    "\n",
    "\n",
    "scaler = MinMaxScaler()\n",
    "X_future_train_scaled = scaler.fit_transform(X_future_train)\n",
    "\n",
    "\n",
    "model_lgb = lgb.LGBMRegressor()\n",
    "model_lgb.fit(X_future_train_scaled, y_future_train)\n",
    "\n",
    "\n",
    "n_future = 132\n",
    "last_date = df.index.max()\n",
    "future_dates = pd.date_range(start=last_date + pd.DateOffset(months=1), periods=n_future, freq='MS')\n",
    "\n",
    "future_df = df.copy()\n",
    "future_preds = []\n",
    "\n",
    "for date in future_dates:\n",
    "    month = date.month\n",
    "    month_sin = np.sin(2 * np.pi * month / 12)\n",
    "    month_cos = np.cos(2 * np.pi * month / 12)\n",
    "    lag_1 = future_df.iloc[-1][\"Sunspot\"]\n",
    "    lag_12 = future_df.iloc[-12][\"Sunspot\"]\n",
    "    lag_60 = future_df.iloc[-60][\"Sunspot\"]\n",
    "    diff_11y = lag_1 - future_df.iloc[-132][\"Sunspot\"]\n",
    "    roll_mean = future_df[\"Sunspot\"].rolling(window=12).mean().iloc[-1]\n",
    "    roll_std = future_df[\"Sunspot\"].rolling(window=12).std().iloc[-1]\n",
    "    year_frac = date.year + (date.month - 1)/12\n",
    "    year_sin = np.sin(2 * np.pi * year_frac / 11)\n",
    "    year_cos = np.cos(2 * np.pi * year_frac / 11)\n",
    "    rolling_11yr = future_df[\"Sunspot\"].rolling(window=132).mean().iloc[-1]\n",
    "\n",
    "    row = pd.DataFrame([[\n",
    "        month_sin, month_cos, lag_1, lag_12, lag_60,\n",
    "        diff_11y, roll_mean, roll_std, year_sin, year_cos, rolling_11yr\n",
    "    ]], columns=features)\n",
    "\n",
    "    row_scaled = scaler.transform(row)\n",
    "    pred = model_lgb.predict(row_scaled)[0]\n",
    "    future_preds.append(pred)\n",
    "\n",
    "    future_df.loc[date] = {\n",
    "        'Sunspot': pred,\n",
    "        'Month': month,\n",
    "        'Day': 1,\n",
    "        'Month_sin': month_sin,\n",
    "        'Month_cos': month_cos,\n",
    "        'Sunspot_lag1': lag_1,\n",
    "        'Sunspot_lag12': lag_12,\n",
    "        'Sunspot_lag60': lag_60,\n",
    "        'Diff_11Year': diff_11y,\n",
    "        'rolling_mean_12': roll_mean,\n",
    "        'rolling_std_12': roll_std,        \n",
    "        'Year_sin': year_sin,\n",
    "        'Year_cos': year_cos,\n",
    "        'Rolling_11Yr': rolling_11yr\n",
    "    }\n",
    "\n",
    "\n",
    "future_forecast_df = pd.DataFrame({\n",
    "    \"Date\": future_dates,\n",
    "    \"Predicted\": future_preds\n",
    "}).set_index(\"Date\")\n",
    "\n",
    "plt.figure(figsize=(14, 5))\n",
    "plt.plot(future_forecast_df.index, future_forecast_df[\"Predicted\"], color=\"purple\", linestyle=\"--\", linewidth=2)\n",
    "plt.title(\"11-Year Forecast Using LightGBM (Trained on Test + Validation)\", fontsize=14)\n",
    "plt.xlabel(\"Date\")\n",
    "plt.ylabel(\"Predicted Sunspot Number\")\n",
    "plt.grid(True)\n",
    "plt.tight_layout()\n",
    "plt.show()"
   ]
  }
 ],
 "metadata": {
  "kernelspec": {
   "display_name": ".venv",
   "language": "python",
   "name": "python3"
  },
  "language_info": {
   "codemirror_mode": {
    "name": "ipython",
    "version": 3
   },
   "file_extension": ".py",
   "mimetype": "text/x-python",
   "name": "python",
   "nbconvert_exporter": "python",
   "pygments_lexer": "ipython3",
   "version": "3.13.5"
  }
 },
 "nbformat": 4,
 "nbformat_minor": 5
}
