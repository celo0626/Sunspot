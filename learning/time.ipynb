{
 "cells": [
  {
   "cell_type": "code",
   "execution_count": 82,
   "id": "aea1e0de",
   "metadata": {},
   "outputs": [
    {
     "name": "stdout",
     "output_type": "stream",
     "text": [
      "            Monthly Mean Total Sunspot Number  Year  Month  DayOfWeek  \\\n",
      "Date                                                                    \n",
      "1749-01-31                               96.7  1749      1          4   \n",
      "1749-02-28                              104.3  1749      2          4   \n",
      "1749-03-31                              116.7  1749      3          0   \n",
      "1749-04-30                               92.8  1749      4          2   \n",
      "1749-05-31                              141.7  1749      5          5   \n",
      "1749-06-30                              139.2  1749      6          0   \n",
      "1749-07-31                              158.0  1749      7          3   \n",
      "1749-08-31                              110.5  1749      8          6   \n",
      "1749-09-30                              126.5  1749      9          1   \n",
      "1749-10-31                              125.8  1749     10          4   \n",
      "\n",
      "            IsWeekend  \n",
      "Date                   \n",
      "1749-01-31          0  \n",
      "1749-02-28          0  \n",
      "1749-03-31          0  \n",
      "1749-04-30          0  \n",
      "1749-05-31          1  \n",
      "1749-06-30          0  \n",
      "1749-07-31          0  \n",
      "1749-08-31          1  \n",
      "1749-09-30          0  \n",
      "1749-10-31          0  \n"
     ]
    }
   ],
   "source": [
    "import pandas as pd\n",
    "import numpy as np\n",
    "df= pd.read_csv('Sunspots.csv',parse_dates=['Date'])\n",
    "df.drop(columns = 'Unnamed: 0',inplace=True)\n",
    "df['Date'] = pd.to_datetime(df['Date'])\n",
    "df = df.set_index('Date')\n",
    "df['Year'] = df.index.year\n",
    "df['Month'] = df.index.month\n",
    "df['DayOfWeek'] = df.index.dayofweek\n",
    "df['IsWeekend'] = (df['DayOfWeek'] >= 5).astype(int)\n",
    "\n",
    "print(df.head(10))"
   ]
  },
  {
   "cell_type": "code",
   "execution_count": 93,
   "id": "3067a795",
   "metadata": {},
   "outputs": [
    {
     "name": "stdout",
     "output_type": "stream",
     "text": [
      "DatetimeIndex(['2009-01-31', '2009-02-28', '2009-03-31', '2009-04-30',\n",
      "               '2009-05-31', '2009-06-30', '2009-07-31', '2009-08-31',\n",
      "               '2009-09-30', '2009-10-31',\n",
      "               ...\n",
      "               '2020-03-31', '2020-04-30', '2020-05-31', '2020-06-30',\n",
      "               '2020-07-31', '2020-08-31', '2020-09-30', '2020-10-31',\n",
      "               '2020-11-30', '2020-12-31'],\n",
      "              dtype='datetime64[ns]', length=144, freq='ME')\n"
     ]
    },
    {
     "name": "stderr",
     "output_type": "stream",
     "text": [
      "C:\\Users\\Monster\\AppData\\Local\\Temp\\ipykernel_16448\\1597758716.py:1: FutureWarning: 'M' is deprecated and will be removed in a future version, please use 'ME' instead.\n",
      "  rng=pd.date_range(start='2009-01-01', end='2020-12-31', freq='M')\n"
     ]
    }
   ],
   "source": [
    "rng=pd.date_range(start='2009-01-01', end='2020-12-31', freq='M')\n",
    "print(rng)"
   ]
  },
  {
   "cell_type": "code",
   "execution_count": 96,
   "id": "c19578e1",
   "metadata": {},
   "outputs": [],
   "source": [
    "df['Month_sin'] = np.sin(2 * np.pi * df['Month'] / 12)\n",
    "df['Month_cos'] = np.cos(2 * np.pi * df['Month'] / 12)\n",
    "\n"
   ]
  },
  {
   "cell_type": "code",
   "execution_count": null,
   "id": "2e9c65da",
   "metadata": {},
   "outputs": [
    {
     "name": "stdout",
     "output_type": "stream",
     "text": [
      "            Monthly Mean Total Sunspot Number  Year  Month  DayOfWeek  \\\n",
      "Date                                                                    \n",
      "1971-01-31                              129.2  1971      1          6   \n",
      "1971-02-28                              111.8  1971      2          6   \n",
      "1971-03-31                               85.9  1971      3          2   \n",
      "1971-04-30                              101.6  1971      4          4   \n",
      "1971-05-31                               81.5  1971      5          0   \n",
      "\n",
      "            IsWeekend  Month_sin     Month_cos  DayOfWeek_sin  DayOfWeek_cos  \\\n",
      "Date                                                                           \n",
      "1971-01-31          1   0.500000  8.660254e-01      -0.781831       0.623490   \n",
      "1971-02-28          1   0.866025  5.000000e-01      -0.781831       0.623490   \n",
      "1971-03-31          0   1.000000  6.123234e-17       0.974928      -0.222521   \n",
      "1971-04-30          0   0.866025 -5.000000e-01      -0.433884      -0.900969   \n",
      "1971-05-31          0   0.500000 -8.660254e-01       0.000000       1.000000   \n",
      "\n",
      "            Lag_1  Lag_12  RollingMean_3  RollingStd_3  Diff_1  Diff_3  \\\n",
      "Date                                                                     \n",
      "1971-01-31    NaN     NaN            NaN           NaN     NaN     NaN   \n",
      "1971-02-28  129.2     NaN            NaN           NaN   -17.4     NaN   \n",
      "1971-03-31  111.8     NaN     108.966667     21.788606   -25.9     NaN   \n",
      "1971-04-30   85.9     NaN      99.766667     13.046966    15.7     NaN   \n",
      "1971-05-31  101.6     NaN      89.666667     10.566141   -20.1     NaN   \n",
      "\n",
      "            Diff_12  ExpandingMean  \n",
      "Date                                \n",
      "1971-01-31      NaN     129.200000  \n",
      "1971-02-28      NaN     120.500000  \n",
      "1971-03-31      NaN     108.966667  \n",
      "1971-04-30      NaN     107.125000  \n",
      "1971-05-31      NaN     102.000000  \n"
     ]
    }
   ],
   "source": [
    "df['Lag_1'] = df['Monthly Mean Total Sunspot Number'].shift(1)\n",
    "df['Lag_12'] = df['Monthly Mean Total Sunspot Number'].shift(12)\n",
    "df['RollingMean_3'] = df['Monthly Mean Total Sunspot Number'].rolling(3).mean()\n",
    "df['RollingStd_3'] = df['Monthly Mean Total Sunspot Number'].rolling(3).std()\n",
    "df['Diff_1'] = df['Monthly Mean Total Sunspot Number'].diff(1)\n",
    "df['Diff_3'] = df['Monthly Mean Total Sunspot Number'].diff(periods=132)\n",
    "df['Diff_12'] = df['Monthly Mean Total Sunspot Number'].diff(132)\n",
    "df['ExpandingMean'] = df['Monthly Mean Total Sunspot Number'].expanding().mean()\n",
    "\n",
    "print(df.head())"
   ]
  },
  {
   "cell_type": "code",
   "execution_count": null,
   "id": "53753ed2",
   "metadata": {},
   "outputs": [],
   "source": []
  },
  {
   "cell_type": "code",
   "execution_count": 85,
   "id": "54dfdd4f",
   "metadata": {},
   "outputs": [],
   "source": [
    "#%matplotlib inline\n",
    "#df.SunspotNumber.resample(\"Y\").mean().plot()\n"
   ]
  },
  {
   "cell_type": "code",
   "execution_count": 86,
   "id": "a168ae8c",
   "metadata": {},
   "outputs": [],
   "source": [
    "#h=pd.Period(\"2002-01-01\",freq=\"Y\")\n",
    "#print(h)\n",
    "#h.start_time\n",
    "#h.end_time"
   ]
  }
 ],
 "metadata": {
  "kernelspec": {
   "display_name": ".venv",
   "language": "python",
   "name": "python3"
  },
  "language_info": {
   "codemirror_mode": {
    "name": "ipython",
    "version": 3
   },
   "file_extension": ".py",
   "mimetype": "text/x-python",
   "name": "python",
   "nbconvert_exporter": "python",
   "pygments_lexer": "ipython3",
   "version": "3.13.5"
  }
 },
 "nbformat": 4,
 "nbformat_minor": 5
}
