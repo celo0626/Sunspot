{
 "cells": [
  {
   "cell_type": "code",
   "execution_count": 75,
   "id": "7e67bde2",
   "metadata": {},
   "outputs": [
    {
     "name": "stdout",
     "output_type": "stream",
     "text": [
      "      Index       Date  Sunspot  Year  Lag_1  Lag_12  RollingMean_3  \\\n",
      "3260   3260 2020-09-30      0.6  2020    7.5     1.1       4.733333   \n",
      "3261   3261 2020-10-31     14.4  2020    0.6     0.4       7.500000   \n",
      "3262   3262 2020-11-30     34.0  2020   14.4     0.5      16.333333   \n",
      "3263   3263 2020-12-31     21.8  2020   34.0     1.5      23.400000   \n",
      "3264   3264 2021-01-31     10.4  2021   21.8     6.2      22.066667   \n",
      "\n",
      "      RollingStd_3  Diff_1  ExpandingMean  \n",
      "3260      3.647373    -6.9      83.571415  \n",
      "3261      6.900000    13.8      83.549765  \n",
      "3262     16.783722    19.6      83.534262  \n",
      "3263      9.897474   -12.2      83.514952  \n",
      "3264     11.802260   -11.4      83.492089  \n"
     ]
    }
   ],
   "source": [
    "import pandas as pd\n",
    "import numpy as np\n",
    "import matplotlib.pyplot as plt\n",
    "\n",
    "\n",
    "df = pd.read_csv('Sunspots.csv') \n",
    "\n",
    "df.columns = ['Index', 'Date', 'Sunspot']\n",
    "df['Date'] = pd.to_datetime(df['Date'])\n",
    "df['Year'] = df['Date'].dt.year\n",
    "df.drop(index=df[df[\"Sunspot\"] == 0].index,inplace=True)\n",
    "\n",
    "\n",
    "\n",
    "annual_df = df.groupby('Year')['Sunspot'].mean().reset_index()\n",
    "\n",
    "\n",
    "start_year = annual_df['Year'].min()\n",
    "annual_df['Cycle'] = ((annual_df['Year'] - start_year) // 11) + 1\n",
    "annual_df['Cycle_Label'] = annual_df['Cycle'].apply(\n",
    "    lambda x: f\"{start_year + (x - 1) * 11}-{start_year + x * 11 - 1}\"\n",
    ")\n",
    "\n",
    "\n",
    "cycle_means = annual_df.groupby('Cycle_Label')['Sunspot'].mean().reset_index()\n",
    "cycle_means.columns = ['11-year period', 'Sunspot_Mean']\n",
    "\n",
    "df['Lag_1'] = df['Sunspot'].shift(1)\n",
    "df['Lag_12'] = df['Sunspot'].shift(12)\n",
    "df['RollingMean_3'] = df['Sunspot'].rolling(window=3).mean()\n",
    "df['RollingStd_3'] = df['Sunspot'].rolling(window=3).std()\n",
    "df['Diff_1'] = df['Sunspot'].diff(periods=1)\n",
    "df['ExpandingMean'] = df['Sunspot'].expanding().mean()\n",
    "\n",
    "\n",
    "print(df.tail())\n",
    "\n"
   ]
  }
 ],
 "metadata": {
  "kernelspec": {
   "display_name": ".venv",
   "language": "python",
   "name": "python3"
  },
  "language_info": {
   "codemirror_mode": {
    "name": "ipython",
    "version": 3
   },
   "file_extension": ".py",
   "mimetype": "text/x-python",
   "name": "python",
   "nbconvert_exporter": "python",
   "pygments_lexer": "ipython3",
   "version": "3.13.5"
  }
 },
 "nbformat": 4,
 "nbformat_minor": 5
}
