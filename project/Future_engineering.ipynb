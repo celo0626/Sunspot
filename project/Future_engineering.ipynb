{
 "cells": [
  {
   "cell_type": "code",
   "execution_count": 257,
   "id": "ddd9f9ea",
   "metadata": {},
   "outputs": [],
   "source": [
    "import pandas as pd\n",
    "import numpy as np\n",
    "import matplotlib.pyplot as plt"
   ]
  },
  {
   "cell_type": "code",
   "execution_count": 258,
   "id": "67a479e6",
   "metadata": {},
   "outputs": [],
   "source": [
    "df = pd.read_csv('Sunspots.csv')\n"
   ]
  },
  {
   "cell_type": "code",
   "execution_count": 259,
   "id": "74b556ec",
   "metadata": {},
   "outputs": [],
   "source": [
    "df.drop(columns = 'Unnamed: 0',inplace=True)\n",
    "df.drop(index=df[df[\"Monthly Mean Total Sunspot Number\"] == 0].index,inplace=True)\n"
   ]
  },
  {
   "cell_type": "code",
   "execution_count": 260,
   "id": "4cc4ee36",
   "metadata": {},
   "outputs": [],
   "source": [
    "df['Date'] = pd.to_datetime(df['Date'])\n",
    "df['Year'] = df['Date'].dt.year\n",
    "df['Month'] = df['Date'].dt.month\n",
    "df['Day'] = df['Date'].dt.day"
   ]
  },
  {
   "cell_type": "code",
   "execution_count": 261,
   "id": "e52e9df0",
   "metadata": {},
   "outputs": [],
   "source": [
    "df = df[~df['Year'].between(1790, 1830)]\n",
    "df = df.reset_index(drop=True)"
   ]
  },
  {
   "cell_type": "code",
   "execution_count": 262,
   "id": "b821318b",
   "metadata": {},
   "outputs": [],
   "source": [
    "df['Diff_1Year'] = df['Monthly Mean Total Sunspot Number'].diff(periods=1)\n",
    "df['Diff_11Year'] = df['Monthly Mean Total Sunspot Number'].diff(periods=132)\n",
    "df['Sunspot_lag1'] = df['Monthly Mean Total Sunspot Number'].shift(1)\n",
    "df['Sunspot_lag12'] = df['Monthly Mean Total Sunspot Number'].shift(12)\n",
    "df['Sunspot_lag132'] = df['Monthly Mean Total Sunspot Number'].shift(132)\n",
    "df['Month_sin'] = np.sin(2 * np.pi * df['Month'] / 12)\n",
    "df['Month_cos'] = np.cos(2 * np.pi * df['Month'] / 12)\n",
    "df.dropna(inplace=True)"
   ]
  },
  {
   "cell_type": "code",
   "execution_count": 263,
   "id": "25741e71",
   "metadata": {},
   "outputs": [],
   "source": [
    "df.to_csv('Modeling.csv', index=False)\n"
   ]
  },
  {
   "cell_type": "markdown",
   "id": "953bf2f1",
   "metadata": {},
   "source": [
    "##Modeling"
   ]
  }
 ],
 "metadata": {
  "kernelspec": {
   "display_name": ".venv",
   "language": "python",
   "name": "python3"
  },
  "language_info": {
   "codemirror_mode": {
    "name": "ipython",
    "version": 3
   },
   "file_extension": ".py",
   "mimetype": "text/x-python",
   "name": "python",
   "nbconvert_exporter": "python",
   "pygments_lexer": "ipython3",
   "version": "3.13.5"
  }
 },
 "nbformat": 4,
 "nbformat_minor": 5
}
